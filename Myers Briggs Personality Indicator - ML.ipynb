{
 "cells": [
  {
   "cell_type": "code",
   "execution_count": 1,
   "id": "d5932bf7",
   "metadata": {},
   "outputs": [],
   "source": [
    "%matplotlib inline\n",
    "import re\n",
    "import pandas as pd\n",
    "import numpy as np\n",
    "import matplotlib.pyplot as plt\n",
    "import seaborn as sns\n",
    "import plotly.offline as py\n",
    "import plotly.tools as tls\n",
    "import plotly.graph_objs as go\n",
    "from bs4 import BeautifulSoup\n",
    "from sklearn.model_selection import cross_validate\n",
    "from sklearn.model_selection import StratifiedKFold\n",
    "from sklearn.linear_model import LogisticRegression\n",
    "from sklearn.model_selection import learning_curve\n",
    "from sklearn.ensemble import ExtraTreesClassifier"
   ]
  },
  {
   "cell_type": "code",
   "execution_count": 2,
   "id": "6cdc9a0d",
   "metadata": {},
   "outputs": [
    {
     "data": {
      "text/html": [
       "        <script type=\"text/javascript\">\n",
       "        window.PlotlyConfig = {MathJaxConfig: 'local'};\n",
       "        if (window.MathJax && window.MathJax.Hub && window.MathJax.Hub.Config) {window.MathJax.Hub.Config({SVG: {font: \"STIX-Web\"}});}\n",
       "        if (typeof require !== 'undefined') {\n",
       "        require.undef(\"plotly\");\n",
       "        requirejs.config({\n",
       "            paths: {\n",
       "                'plotly': ['https://cdn.plot.ly/plotly-2.12.1.min']\n",
       "            }\n",
       "        });\n",
       "        require(['plotly'], function(Plotly) {\n",
       "            window._Plotly = Plotly;\n",
       "        });\n",
       "        }\n",
       "        </script>\n",
       "        "
      ]
     },
     "metadata": {},
     "output_type": "display_data"
    }
   ],
   "source": [
    "from sklearn.decomposition import TruncatedSVD\n",
    "from sklearn.feature_extraction.text import TfidfVectorizer,CountVectorizer\n",
    "from sklearn.pipeline import Pipeline\n",
    "from sklearn.naive_bayes import MultinomialNB\n",
    "py.init_notebook_mode(connected=True)"
   ]
  },
  {
   "cell_type": "code",
   "execution_count": 3,
   "id": "11f958f3",
   "metadata": {},
   "outputs": [],
   "source": [
    "train=pd.read_csv(\"C:\\\\Users\\\\gunnu\\\\Downloads\\\\mbti_1.csv\")\n",
    "us=pd.read_csv(\"C:\\\\Users\\\\gunnu\\\\Downloads\\\\Users.csv\")\n",
    "ps=pd.read_csv(\"C:\\\\Users\\\\gunnu\\\\Downloads\\\\ForumMessages.csv\")\n",
    "mbti={'I':'Introversion', 'E':'Extroversion','N':'Intutions','S':'Sensing','T':'Thinking','F':'Feeling','J':'Judging','P':'Perceiving'}\n"
   ]
  },
  {
   "cell_type": "code",
   "execution_count": 4,
   "id": "4a6148a2",
   "metadata": {},
   "outputs": [
    {
     "data": {
      "text/plain": [
       "(8675, 2)"
      ]
     },
     "execution_count": 4,
     "metadata": {},
     "output_type": "execute_result"
    }
   ],
   "source": [
    "train.shape"
   ]
  },
  {
   "cell_type": "code",
   "execution_count": 5,
   "id": "f07aad1b",
   "metadata": {},
   "outputs": [
    {
     "name": "stderr",
     "output_type": "stream",
     "text": [
      "C:\\Users\\gunnu\\anaconda3\\lib\\site-packages\\seaborn\\_decorators.py:36: FutureWarning:\n",
      "\n",
      "Pass the following variables as keyword args: x, y. From version 0.12, the only valid positional argument will be `data`, and passing other arguments without an explicit keyword will result in an error or misinterpretation.\n",
      "\n"
     ]
    },
    {
     "data": {
      "image/png": "[encoded data removed]",
      "text/plain": [
       "<Figure size 1200x400 with 1 Axes>"
      ]
     },
     "metadata": {},
     "output_type": "display_data"
    }
   ],
   "source": [
    "cnt_srs=train['type'].value_counts()\n",
    "plt.figure(figsize=(12,4))\n",
    "sns.barplot(cnt_srs.index,cnt_srs.values,alpha=0.8)\n",
    "plt.ylabel(\"Number of Occurences\",fontsize=13)\n",
    "plt.xlabel(\"Types\",fontsize=13)\n",
    "plt.show()"
   ]
  },
  {
   "cell_type": "code",
   "execution_count": 6,
   "id": "bf3dd936",
   "metadata": {},
   "outputs": [],
   "source": [
    "ps['Message']=ps['Message'].fillna('')"
   ]
  },
  {
   "cell_type": "code",
   "execution_count": 7,
   "id": "63b4877c",
   "metadata": {},
   "outputs": [],
   "source": [
    "ps_join=ps.groupby('PostUserId')['Message'].agg(lambda col: ' '.join(col)).reset_index()"
   ]
  },
  {
   "cell_type": "code",
   "execution_count": 8,
   "id": "2ad859ad",
   "metadata": {},
   "outputs": [],
   "source": [
    "etc=ExtraTreesClassifier(n_estimators=20,max_depth=4,n_jobs=-1)\n",
    "tfidf=TfidfVectorizer(ngram_range=(1,1),stop_words=\"english\")\n",
    "tsvd=TruncatedSVD(n_components=10)\n",
    "model=Pipeline([('tfidf',tfidf),('tsvdi',tsvd),('etc',etc)])"
   ]
  },
  {
   "cell_type": "code",
   "execution_count": 9,
   "id": "2494aa08",
   "metadata": {},
   "outputs": [],
   "source": [
    "kfolds=StratifiedKFold(n_splits=5,shuffle=True,random_state=1)\n"
   ]
  },
  {
   "cell_type": "code",
   "execution_count": 10,
   "id": "cf2145dd",
   "metadata": {},
   "outputs": [],
   "source": [
    "np.random.seed(1)\n",
    "scoring={'acc':'accuracy',\n",
    "        'neg_log_loss':'neg_log_loss',\n",
    "        'f1_micro':'f1_micro'}\n",
    "results=cross_validate(model,train['posts'],train['type'],cv=kfolds,scoring=scoring,n_jobs=-1)"
   ]
  },
  {
   "cell_type": "code",
   "execution_count": 11,
   "id": "b9491e1c",
   "metadata": {},
   "outputs": [
    {
     "name": "stdout",
     "output_type": "stream",
     "text": [
      "CV accuracy: 0.2969(+/- 0.0157)\n",
      "CV F1: 0.2969(+/- 0.0157)\n",
      "CV Logloss: -2.1485(+/- 0.0135)\n"
     ]
    }
   ],
   "source": [
    "#AS THE DATASET IS VERY UNALANCED, F1 SCORE IS A BETTER METRIC.\n",
    "print(\"CV accuracy: {:0.4f}(+/- {:0.4f})\".format(np.mean(results['test_acc']),np.std(results['test_acc'])))\n",
    "print(\"CV F1: {:0.4f}(+/- {:0.4f})\".format(np.mean(results['test_f1_micro']),np.std(results['test_f1_micro'])))\n",
    "print(\"CV Logloss: {:0.4f}(+/- {:0.4f})\".format(np.mean(results['test_neg_log_loss']),np.std(results['test_neg_log_loss'])))"
   ]
  },
  {
   "cell_type": "code",
   "execution_count": 12,
   "id": "d36d5461",
   "metadata": {},
   "outputs": [],
   "source": [
    "def cleanText(text):\n",
    "    text=BeautifulSoup(text,'lxml').text\n",
    "    text=re.sub(r'\\|\\|\\|',r'',text)\n",
    "    text=re.sub(r'http\\S+',r'<URL>',text)\n",
    "    return text\n"
   ]
  },
  {
   "cell_type": "code",
   "execution_count": 13,
   "id": "1e342af7",
   "metadata": {},
   "outputs": [
    {
     "name": "stderr",
     "output_type": "stream",
     "text": [
      "C:\\Users\\gunnu\\anaconda3\\lib\\site-packages\\bs4\\__init__.py:435: MarkupResemblesLocatorWarning:\n",
      "\n",
      "The input looks more like a filename than markup. You may want to open this file and pass the filehandle into Beautiful Soup.\n",
      "\n"
     ]
    }
   ],
   "source": [
    "train['clean_posts']=train['posts'].apply(cleanText)\n"
   ]
  },
  {
   "cell_type": "code",
   "execution_count": 14,
   "id": "0dcc55c4",
   "metadata": {},
   "outputs": [],
   "source": [
    "np.random.seed(1)\n",
    "scoring={'acc':'accuracy',\n",
    "        'neg_log_loss':'neg_log_loss',\n",
    "        'f1_micro':'f1_micro'}\n",
    "results=cross_validate(model,train['posts'],train['type'],cv=kfolds,scoring=scoring,n_jobs=-1)"
   ]
  },
  {
   "cell_type": "code",
   "execution_count": 15,
   "id": "74c4e47b",
   "metadata": {},
   "outputs": [
    {
     "name": "stdout",
     "output_type": "stream",
     "text": [
      "CV accuracy: 0.2953(+/- 0.0190)\n",
      "CV F1: 0.2953(+/- 0.0190)\n",
      "CV Logloss: -2.1478(+/- 0.0161)\n"
     ]
    }
   ],
   "source": [
    "#AS THE DATASET IS VERY UNALANCED, F1 SCORE IS A BETTER METRIC.\n",
    "print(\"CV accuracy: {:0.4f}(+/- {:0.4f})\".format(np.mean(results['test_acc']),np.std(results['test_acc'])))\n",
    "print(\"CV F1: {:0.4f}(+/- {:0.4f})\".format(np.mean(results['test_f1_micro']),np.std(results['test_f1_micro'])))\n",
    "print(\"CV Logloss: {:0.4f}(+/- {:0.4f})\".format(np.mean(results['test_neg_log_loss']),np.std(results['test_neg_log_loss'])))"
   ]
  },
  {
   "cell_type": "code",
   "execution_count": 16,
   "id": "8430db47",
   "metadata": {},
   "outputs": [],
   "source": [
    "model_lr = LogisticRegression()\n",
    "train_sizes,train_scores,test_scores=\\\n",
    "learning_curve(model_lr,train['clean_posts'],train['type'],cv=kfolds,n_jobs=-1,\n",
    "              scoring=\"f1_micro\",train_sizes=np.linspace(.1,1.0,10),random_state=1)\n",
    "\n"
   ]
  },
  {
   "cell_type": "code",
   "execution_count": 17,
   "id": "112866da",
   "metadata": {},
   "outputs": [],
   "source": [
    "def plot_learning_curve(X,y,train_sizes,train_scores,test_scores,title='',ylim=None,figsize=(14,8)):\n",
    "    plt.figure(figsize=figsize)\n",
    "    plt.title(title)\n",
    "    if ylim is not None:\n",
    "        plt.ylim(*ylim)\n",
    "    plt.xlabel(\"Training examples\")\n",
    "    plt.ylabel(\"Score\")\n",
    "    train_scores_mean = np.mean(train_scores, axis=1)\n",
    "    train_scores_std = np.std(train_scores, axis=1)\n",
    "    test_scores_mean = np.mean(test_scores, axis=1)\n",
    "    test_scores_std = np.std(test_scores, axis=1)\n",
    "    plt.grid()\n",
    "    \n",
    "    plt.fill_between(train_sizes, train_scores_mean - train_scores_std,\n",
    "                    train_scores_mean + train_scores_std, alpha=0.1, color=\"r\")\n",
    "    plt.fill_between(train_sizes, test_scores_mean - test_scores_std,\n",
    "                    test_scores_mean + test_scores_std, alpha=0.1, color=\"g\")\n",
    "    plt.plot(train_sizes, train_scores_mean,'o-', color=\"r\",\n",
    "             label=\"Training score\")\n",
    "    plt.plot(train_sizes, test_scores_mean, 'o-', color=\"g\", label=\"Cross-validation score\")\n",
    "    \n",
    "    plt.legend(loc=\"best\")\n",
    "    \n",
    "    return plt"
   ]
  },
  {
   "cell_type": "code",
   "execution_count": 19,
   "id": "2ab339b6",
   "metadata": {},
   "outputs": [
    {
     "ename": "NameError",
     "evalue": "name 'X' is not defined",
     "output_type": "error",
     "traceback": [
      "\u001b[1;31m---------------------------------------------------------------------------\u001b[0m",
      "\u001b[1;31mNameError\u001b[0m                                 Traceback (most recent call last)",
      "\u001b[1;32m~\\AppData\\Local\\Temp\\ipykernel_13860\\4236527302.py\u001b[0m in \u001b[0;36m<module>\u001b[1;34m\u001b[0m\n\u001b[0;32m      1\u001b[0m \u001b[1;31m# Assuming the required data and scores have been computed earlier in your code\u001b[0m\u001b[1;33m\u001b[0m\u001b[1;33m\u001b[0m\u001b[0m\n\u001b[0;32m      2\u001b[0m \u001b[1;31m# For example, after running the learning_curve function:\u001b[0m\u001b[1;33m\u001b[0m\u001b[1;33m\u001b[0m\u001b[0m\n\u001b[1;32m----> 3\u001b[1;33m train_sizes, train_scores, test_scores = learning_curve(model_lr, X, y, cv=kfolds, n_jobs=-1,\n\u001b[0m\u001b[0;32m      4\u001b[0m                                                         scoring=\"f1_micro\", train_sizes=np.linspace(.1, 1.0, 10), random_state=1)\n\u001b[0;32m      5\u001b[0m \u001b[1;33m\u001b[0m\u001b[0m\n",
      "\u001b[1;31mNameError\u001b[0m: name 'X' is not defined"
     ]
    }
   ],
   "source": [
    "# Assuming the required data and scores have been computed earlier in your code\n",
    "# For example, after running the learning_curve function:\n",
    "train_sizes, train_scores, test_scores = learning_curve(model_lr, X, y, cv=kfolds, n_jobs=-1,\n",
    "                                                        scoring=\"f1_micro\", train_sizes=np.linspace(.1, 1.0, 10), random_state=1)\n",
    "\n",
    "# Call the plot_learning_curve function and pass the required arguments\n",
    "plot_learning_curve(X, y, train_sizes, train_scores, test_scores, ylim=(0.1, 1.01), figsize=(13, 6))\n",
    "\n",
    "# Show the plot\n",
    "plt.show()\n"
   ]
  },
  {
   "cell_type": "code",
   "execution_count": 18,
   "id": "e6084a38",
   "metadata": {},
   "outputs": [
    {
     "data": {
      "image/png": "[encoded data removed]",
      "text/plain": [
       "<Figure size 1300x600 with 1 Axes>"
      ]
     },
     "metadata": {},
     "output_type": "display_data"
    }
   ],
   "source": [
    "plot_learning_curve(train['posts'],train['type'],train_sizes,\n",
    "                   train_scores,test_scores,ylim=(0.1,1.01),figsize=(13,6))\n",
    "plt.show()"
   ]
  }
 ],
 "metadata": {
  "kernelspec": {
   "display_name": "Python 3 (ipykernel)",
   "language": "python",
   "name": "python3"
  },
  "language_info": {
   "codemirror_mode": {
    "name": "ipython",
    "version": 3
   },
   "file_extension": ".py",
   "mimetype": "text/x-python",
   "name": "python",
   "nbconvert_exporter": "python",
   "pygments_lexer": "ipython3",
   "version": "3.9.13"
  }
 },
 "nbformat": 4,
 "nbformat_minor": 5
}
